{
 "cells": [
  {
   "cell_type": "code",
   "execution_count": 4,
   "id": "d945195c",
   "metadata": {},
   "outputs": [
    {
     "data": {
      "text/plain": [
       "True"
      ]
     },
     "execution_count": 4,
     "metadata": {},
     "output_type": "execute_result"
    }
   ],
   "source": [
    "from dotenv import load_dotenv\n",
    "load_dotenv()"
   ]
  },
  {
   "cell_type": "code",
   "execution_count": 5,
   "id": "91fe983f",
   "metadata": {},
   "outputs": [],
   "source": [
    "from langchain_openai import ChatOpenAI\n",
    "llm = ChatOpenAI(model=\"gpt-4o-mini\")\n",
    "\n",
    "from langchain_core.output_parsers import StrOutputParser\n",
    "parser = StrOutputParser()\n",
    "\n",
    "chain = llm | parser"
   ]
  },
  {
   "cell_type": "code",
   "execution_count": 6,
   "id": "d52e03f8",
   "metadata": {},
   "outputs": [],
   "source": [
    "from langchain_core.chat_history import BaseChatMessageHistory, InMemoryChatMessageHistory\n",
    "from langchain_core.runnables.history import RunnableWithMessageHistory\n",
    "\n",
    "store = {}\n",
    "\n",
    "def get_session_history(session_id: str) -> BaseChatMessageHistory:\n",
    "    if session_id not in store:\n",
    "        store[session_id] = InMemoryChatMessageHistory()\n",
    "    return store[session_id]\n",
    "\n",
    "with_message_history = RunnableWithMessageHistory(chain, get_session_history)\n",
    "\n",
    "config = {\n",
    "    \"configurable\": {\n",
    "        \"session_id\": \"chat\"\n",
    "    }\n",
    "}"
   ]
  },
  {
   "cell_type": "code",
   "execution_count": 7,
   "id": "b89f41ed",
   "metadata": {},
   "outputs": [],
   "source": [
    "from langchain_core.messages import AIMessage, HumanMessage, SystemMessage\n",
    "\n",
    "messages = [\n",
    "    SystemMessage(content=\"사용자의 질문에 2문장 이내로 짧게 대답해.\"),\n",
    "    HumanMessage(content=\"오늘은 피자를 먹어야지!\"),\n",
    "    AIMessage(content=\"정말 좋은 생각이야. 음료는 무엇을 마실거야?\"),\n",
    "    \n",
    "    HumanMessage(content=\"내일은 등산을 가야지!\"),\n",
    "    AIMessage(content=\"등산이라니, 정말 좋은 운동이야. 등산은 어디로 갈거야?\"),\n",
    "    \n",
    "    HumanMessage(content=\"주말에는 영화를 보러 갈 거야!\"),\n",
    "    AIMessage(content=\"주말이 벌써부터 기다려지겠는걸? 보려고 생각해둔 영화가 있어?\")\n",
    "]"
   ]
  },
  {
   "cell_type": "code",
   "execution_count": 8,
   "id": "1d329724",
   "metadata": {},
   "outputs": [
    {
     "data": {
      "text/plain": [
       "'주말에 영화를 보러 간다고 했어!'"
      ]
     },
     "execution_count": 8,
     "metadata": {},
     "output_type": "execute_result"
    }
   ],
   "source": [
    "with_message_history.invoke(\n",
    "    messages + [\n",
    "        HumanMessage(content=\"주말에 내가 뭐하러 간다고 했지?\")\n",
    "    ], \n",
    "    config = config\n",
    ")"
   ]
  },
  {
   "cell_type": "code",
   "execution_count": 9,
   "id": "935f74ca",
   "metadata": {},
   "outputs": [
    {
     "data": {
      "text/plain": [
       "'주말에 무엇을 할 것인지에 대한 질문을 했어. 영화를 보러 간다고 말했지!'"
      ]
     },
     "execution_count": 9,
     "metadata": {},
     "output_type": "execute_result"
    }
   ],
   "source": [
    "with_message_history.invoke(\n",
    "    [\n",
    "        HumanMessage(content=\"방금 내가 무슨 질물을 했었지?\")\n",
    "    ],\n",
    "    config = config\n",
    ")\n"
   ]
  },
  {
   "cell_type": "code",
   "execution_count": 10,
   "id": "84d3b708",
   "metadata": {},
   "outputs": [
    {
     "data": {
      "text/plain": [
       "'수영에 대한 언급은 없었어. 언제 갈지 계획이 있니?'"
      ]
     },
     "execution_count": 10,
     "metadata": {},
     "output_type": "execute_result"
    }
   ],
   "source": [
    "with_message_history.invoke(\n",
    "    [\n",
    "        HumanMessage(content=\"내가 수영은 언제 간다고 했지?\")\n",
    "    ],\n",
    "    config = config\n",
    ")"
   ]
  },
  {
   "cell_type": "code",
   "execution_count": 11,
   "id": "add109f7",
   "metadata": {},
   "outputs": [],
   "source": [
    "import langchain\n",
    "langchain.debug = False"
   ]
  },
  {
   "cell_type": "code",
   "execution_count": 12,
   "id": "447186a6",
   "metadata": {},
   "outputs": [
    {
     "data": {
      "text/plain": [
       "'좋은 생각이에요! 수영은 좋은 운동이고 스트레스 해소에도 도움이 되죠. 어떤 수영 스타일을 좋아하나요? 그리고 수영장에 가기 전에 준비할 것들이 있으면 미리 챙겨두세요!'"
      ]
     },
     "execution_count": 12,
     "metadata": {},
     "output_type": "execute_result"
    }
   ],
   "source": [
    "config_01 = {\n",
    "    \"configurable\" : {\n",
    "        \"session_id\" : \"chat_01\"\n",
    "    }\n",
    "}\n",
    "\n",
    "with_message_history.invoke(\n",
    "    [\n",
    "        HumanMessage(content=\"내일은 수영을 가야지!\")\n",
    "    ], \n",
    "    config = config_01\n",
    ")"
   ]
  },
  {
   "cell_type": "code",
   "execution_count": 13,
   "id": "edb7d396",
   "metadata": {},
   "outputs": [
    {
     "data": {
      "text/plain": [
       "'내일 수영을 가기로 했다고 하셨어요! 수영하는 거 기대되시나요? 필요한 준비물이 있다면 미리 챙겨두면 좋겠네요.'"
      ]
     },
     "execution_count": 13,
     "metadata": {},
     "output_type": "execute_result"
    }
   ],
   "source": [
    "with_message_history.invoke(\n",
    "    [\n",
    "        HumanMessage(content=\"내일 뭐하러 간다고 했지??\")\n",
    "    ], \n",
    "    config = config_01\n",
    ")"
   ]
  },
  {
   "cell_type": "code",
   "execution_count": 14,
   "id": "31472637",
   "metadata": {},
   "outputs": [
    {
     "data": {
      "text/plain": [
       "'죄송하지만, 저는 여러분의 개인적인 일정이나 대화를 기억할 수 없습니다. 어딘가에 메모해 두셨거나 캘린더를 확인해 보시는 것이 좋을 것 같습니다. 도움이 필요하시면 언제든지 말씀해 주세요!'"
      ]
     },
     "execution_count": 14,
     "metadata": {},
     "output_type": "execute_result"
    }
   ],
   "source": [
    "config_02 = {\n",
    "    \"configurable\" : {\n",
    "        \"session_id\" : \"chat_02\"\n",
    "    }\n",
    "}\n",
    "\n",
    "with_message_history.invoke(\n",
    "    [\n",
    "        HumanMessage(content=\"내일 언제 간다고 했었지??\")\n",
    "    ], \n",
    "    config = config_02\n",
    ")"
   ]
  },
  {
   "cell_type": "code",
   "execution_count": null,
   "id": "1bdd6805",
   "metadata": {},
   "outputs": [],
   "source": [
    "\n",
    "with_message_history.invoke(\n",
    "    [\n",
    "        HumanMessage(content=\"내일 언제 간다고 했었지??\")\n",
    "    ], \n",
    "    config = config_01\n",
    ")"
   ]
  }
 ],
 "metadata": {
  "kernelspec": {
   "display_name": "Python 3",
   "language": "python",
   "name": "python3"
  },
  "language_info": {
   "codemirror_mode": {
    "name": "ipython",
    "version": 3
   },
   "file_extension": ".py",
   "mimetype": "text/x-python",
   "name": "python",
   "nbconvert_exporter": "python",
   "pygments_lexer": "ipython3",
   "version": "3.13.5"
  }
 },
 "nbformat": 4,
 "nbformat_minor": 5
}
