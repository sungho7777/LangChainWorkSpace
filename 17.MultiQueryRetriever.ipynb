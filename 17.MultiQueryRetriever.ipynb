{
 "cells": [
  {
   "cell_type": "code",
   "execution_count": 1,
   "id": "ab9acc0e",
   "metadata": {},
   "outputs": [
    {
     "data": {
      "text/plain": [
       "True"
      ]
     },
     "execution_count": 1,
     "metadata": {},
     "output_type": "execute_result"
    }
   ],
   "source": [
    "from dotenv import load_dotenv\n",
    "load_dotenv()"
   ]
  },
  {
   "cell_type": "code",
   "execution_count": 3,
   "id": "9d22ca4b",
   "metadata": {},
   "outputs": [
    {
     "name": "stdout",
     "output_type": "stream",
     "text": [
      "Collecting langchain_openai==0.3.7\n",
      "  Using cached langchain_openai-0.3.7-py3-none-any.whl.metadata (2.3 kB)\n",
      "Requirement already satisfied: langchain-core<1.0.0,>=0.3.39 in c:\\python311\\lib\\site-packages (from langchain_openai==0.3.7) (0.3.68)\n",
      "Collecting openai<2.0.0,>=1.58.1 (from langchain_openai==0.3.7)\n",
      "  Downloading openai-1.93.1-py3-none-any.whl.metadata (29 kB)\n",
      "Collecting tiktoken<1,>=0.7 (from langchain_openai==0.3.7)\n",
      "  Using cached tiktoken-0.9.0-cp311-cp311-win_amd64.whl.metadata (6.8 kB)\n",
      "Requirement already satisfied: langsmith>=0.3.45 in c:\\python311\\lib\\site-packages (from langchain-core<1.0.0,>=0.3.39->langchain_openai==0.3.7) (0.3.45)\n",
      "Requirement already satisfied: tenacity!=8.4.0,<10.0.0,>=8.1.0 in c:\\python311\\lib\\site-packages (from langchain-core<1.0.0,>=0.3.39->langchain_openai==0.3.7) (9.1.2)\n",
      "Requirement already satisfied: jsonpatch<2.0,>=1.33 in c:\\python311\\lib\\site-packages (from langchain-core<1.0.0,>=0.3.39->langchain_openai==0.3.7) (1.33)\n",
      "Requirement already satisfied: PyYAML>=5.3 in c:\\python311\\lib\\site-packages (from langchain-core<1.0.0,>=0.3.39->langchain_openai==0.3.7) (6.0.2)\n",
      "Requirement already satisfied: packaging<25,>=23.2 in c:\\python311\\lib\\site-packages (from langchain-core<1.0.0,>=0.3.39->langchain_openai==0.3.7) (24.2)\n",
      "Requirement already satisfied: typing-extensions>=4.7 in c:\\users\\mzncv\\appdata\\roaming\\python\\python311\\site-packages (from langchain-core<1.0.0,>=0.3.39->langchain_openai==0.3.7) (4.14.1)\n",
      "Requirement already satisfied: pydantic>=2.7.4 in c:\\python311\\lib\\site-packages (from langchain-core<1.0.0,>=0.3.39->langchain_openai==0.3.7) (2.11.7)\n",
      "Requirement already satisfied: anyio<5,>=3.5.0 in c:\\python311\\lib\\site-packages (from openai<2.0.0,>=1.58.1->langchain_openai==0.3.7) (4.9.0)\n",
      "Requirement already satisfied: distro<2,>=1.7.0 in c:\\python311\\lib\\site-packages (from openai<2.0.0,>=1.58.1->langchain_openai==0.3.7) (1.9.0)\n",
      "Requirement already satisfied: httpx<1,>=0.23.0 in c:\\python311\\lib\\site-packages (from openai<2.0.0,>=1.58.1->langchain_openai==0.3.7) (0.28.1)\n",
      "Collecting jiter<1,>=0.4.0 (from openai<2.0.0,>=1.58.1->langchain_openai==0.3.7)\n",
      "  Downloading jiter-0.10.0-cp311-cp311-win_amd64.whl.metadata (5.3 kB)\n",
      "Requirement already satisfied: sniffio in c:\\python311\\lib\\site-packages (from openai<2.0.0,>=1.58.1->langchain_openai==0.3.7) (1.3.1)\n",
      "Requirement already satisfied: tqdm>4 in c:\\python311\\lib\\site-packages (from openai<2.0.0,>=1.58.1->langchain_openai==0.3.7) (4.67.1)\n",
      "Requirement already satisfied: regex>=2022.1.18 in c:\\python311\\lib\\site-packages (from tiktoken<1,>=0.7->langchain_openai==0.3.7) (2024.11.6)\n",
      "Requirement already satisfied: requests>=2.26.0 in c:\\python311\\lib\\site-packages (from tiktoken<1,>=0.7->langchain_openai==0.3.7) (2.32.4)\n",
      "Requirement already satisfied: idna>=2.8 in c:\\python311\\lib\\site-packages (from anyio<5,>=3.5.0->openai<2.0.0,>=1.58.1->langchain_openai==0.3.7) (3.10)\n",
      "Requirement already satisfied: certifi in c:\\python311\\lib\\site-packages (from httpx<1,>=0.23.0->openai<2.0.0,>=1.58.1->langchain_openai==0.3.7) (2025.6.15)\n",
      "Requirement already satisfied: httpcore==1.* in c:\\python311\\lib\\site-packages (from httpx<1,>=0.23.0->openai<2.0.0,>=1.58.1->langchain_openai==0.3.7) (1.0.9)\n",
      "Requirement already satisfied: h11>=0.16 in c:\\python311\\lib\\site-packages (from httpcore==1.*->httpx<1,>=0.23.0->openai<2.0.0,>=1.58.1->langchain_openai==0.3.7) (0.16.0)\n",
      "Requirement already satisfied: jsonpointer>=1.9 in c:\\python311\\lib\\site-packages (from jsonpatch<2.0,>=1.33->langchain-core<1.0.0,>=0.3.39->langchain_openai==0.3.7) (3.0.0)\n",
      "Requirement already satisfied: orjson<4.0.0,>=3.9.14 in c:\\python311\\lib\\site-packages (from langsmith>=0.3.45->langchain-core<1.0.0,>=0.3.39->langchain_openai==0.3.7) (3.10.18)\n",
      "Requirement already satisfied: requests-toolbelt<2.0.0,>=1.0.0 in c:\\python311\\lib\\site-packages (from langsmith>=0.3.45->langchain-core<1.0.0,>=0.3.39->langchain_openai==0.3.7) (1.0.0)\n",
      "Requirement already satisfied: zstandard<0.24.0,>=0.23.0 in c:\\python311\\lib\\site-packages (from langsmith>=0.3.45->langchain-core<1.0.0,>=0.3.39->langchain_openai==0.3.7) (0.23.0)\n",
      "Requirement already satisfied: annotated-types>=0.6.0 in c:\\python311\\lib\\site-packages (from pydantic>=2.7.4->langchain-core<1.0.0,>=0.3.39->langchain_openai==0.3.7) (0.7.0)\n",
      "Requirement already satisfied: pydantic-core==2.33.2 in c:\\python311\\lib\\site-packages (from pydantic>=2.7.4->langchain-core<1.0.0,>=0.3.39->langchain_openai==0.3.7) (2.33.2)\n",
      "Requirement already satisfied: typing-inspection>=0.4.0 in c:\\python311\\lib\\site-packages (from pydantic>=2.7.4->langchain-core<1.0.0,>=0.3.39->langchain_openai==0.3.7) (0.4.1)\n",
      "Requirement already satisfied: charset_normalizer<4,>=2 in c:\\python311\\lib\\site-packages (from requests>=2.26.0->tiktoken<1,>=0.7->langchain_openai==0.3.7) (3.4.2)\n",
      "Requirement already satisfied: urllib3<3,>=1.21.1 in c:\\python311\\lib\\site-packages (from requests>=2.26.0->tiktoken<1,>=0.7->langchain_openai==0.3.7) (2.5.0)\n",
      "Requirement already satisfied: colorama in c:\\users\\mzncv\\appdata\\roaming\\python\\python311\\site-packages (from tqdm>4->openai<2.0.0,>=1.58.1->langchain_openai==0.3.7) (0.4.6)\n",
      "Using cached langchain_openai-0.3.7-py3-none-any.whl (55 kB)\n",
      "Downloading openai-1.93.1-py3-none-any.whl (755 kB)\n",
      "   ---------------------------------------- 0.0/755.1 kB ? eta -:--:--\n",
      "   ---------- ----------------------------- 194.6/755.1 kB 5.9 MB/s eta 0:00:01\n",
      "   ----------------------------------- --- 686.1/755.1 kB 10.9 MB/s eta 0:00:01\n",
      "   ---------------------------------------- 755.1/755.1 kB 9.5 MB/s eta 0:00:00\n",
      "Using cached tiktoken-0.9.0-cp311-cp311-win_amd64.whl (893 kB)\n",
      "Downloading jiter-0.10.0-cp311-cp311-win_amd64.whl (209 kB)\n",
      "   ---------------------------------------- 0.0/209.2 kB ? eta -:--:--\n",
      "   --------------------------------------- 209.2/209.2 kB 12.4 MB/s eta 0:00:00\n",
      "Installing collected packages: jiter, tiktoken, openai, langchain_openai\n",
      "Successfully installed jiter-0.10.0 langchain_openai-0.3.7 openai-1.93.1 tiktoken-0.9.0\n",
      "Note: you may need to restart the kernel to use updated packages.\n"
     ]
    },
    {
     "name": "stderr",
     "output_type": "stream",
     "text": [
      "\n",
      "[notice] A new release of pip is available: 24.0 -> 25.1.1\n",
      "[notice] To update, run: python.exe -m pip install --upgrade pip\n"
     ]
    }
   ],
   "source": [
    "%pip install langchain_openai==0.3.7"
   ]
  },
  {
   "cell_type": "code",
   "execution_count": 4,
   "id": "58d80e5b",
   "metadata": {},
   "outputs": [],
   "source": [
    "from langchain_openai import ChatOpenAI\n",
    "llm = ChatOpenAI(model=\"gpt-4o-mini\")"
   ]
  },
  {
   "cell_type": "code",
   "execution_count": 5,
   "id": "a086ea58",
   "metadata": {},
   "outputs": [
    {
     "name": "stderr",
     "output_type": "stream",
     "text": [
      "c:\\Python311\\Lib\\site-packages\\tqdm\\auto.py:21: TqdmWarning: IProgress not found. Please update jupyter and ipywidgets. See https://ipywidgets.readthedocs.io/en/stable/user_install.html\n",
      "  from .autonotebook import tqdm as notebook_tqdm\n"
     ]
    }
   ],
   "source": [
    "from langchain_huggingface import HuggingFaceEmbeddings\n",
    "model_name = \"BAAI/bge-m3\"\n",
    "hf_embeddings = HuggingFaceEmbeddings(model_name=model_name)"
   ]
  },
  {
   "cell_type": "code",
   "execution_count": 6,
   "id": "51687ecb",
   "metadata": {},
   "outputs": [
    {
     "name": "stderr",
     "output_type": "stream",
     "text": [
      "Created a chunk of size 52, which is longer than the specified 0\n",
      "Created a chunk of size 46, which is longer than the specified 0\n",
      "Created a chunk of size 43, which is longer than the specified 0\n",
      "Created a chunk of size 47, which is longer than the specified 0\n",
      "Created a chunk of size 41, which is longer than the specified 0\n",
      "Created a chunk of size 41, which is longer than the specified 0\n",
      "Created a chunk of size 47, which is longer than the specified 0\n",
      "Created a chunk of size 38, which is longer than the specified 0\n",
      "Created a chunk of size 40, which is longer than the specified 0\n",
      "Created a chunk of size 41, which is longer than the specified 0\n",
      "Created a chunk of size 38, which is longer than the specified 0\n",
      "Created a chunk of size 46, which is longer than the specified 0\n",
      "Created a chunk of size 36, which is longer than the specified 0\n",
      "Created a chunk of size 35, which is longer than the specified 0\n",
      "Created a chunk of size 45, which is longer than the specified 0\n",
      "Created a chunk of size 39, which is longer than the specified 0\n",
      "Created a chunk of size 47, which is longer than the specified 0\n",
      "Created a chunk of size 47, which is longer than the specified 0\n",
      "Created a chunk of size 43, which is longer than the specified 0\n"
     ]
    }
   ],
   "source": [
    "from langchain_community.document_loaders import TextLoader\n",
    "from langchain_text_splitters import CharacterTextSplitter\n",
    "\n",
    "text_splitter = CharacterTextSplitter(\n",
    "    separator=\"\\n\",\n",
    "    chunk_size=0,\n",
    "    chunk_overlap=0\n",
    ")\n",
    "\n",
    "loader = TextLoader(\"./docs/travel.txt\", encoding=\"utf-8\")\n",
    "documents = loader.load_and_split(text_splitter=text_splitter)"
   ]
  },
  {
   "cell_type": "code",
   "execution_count": 7,
   "id": "cf1609d4",
   "metadata": {},
   "outputs": [
    {
     "name": "stderr",
     "output_type": "stream",
     "text": [
      "Failed to send telemetry event ClientStartEvent: capture() takes 1 positional argument but 3 were given\n",
      "Failed to send telemetry event ClientCreateCollectionEvent: capture() takes 1 positional argument but 3 were given\n"
     ]
    }
   ],
   "source": [
    "from langchain_chroma import Chroma\n",
    "db = Chroma.from_documents(documents, hf_embeddings)"
   ]
  },
  {
   "cell_type": "code",
   "execution_count": 8,
   "id": "5d2e7119",
   "metadata": {},
   "outputs": [],
   "source": [
    "from langchain.retrievers.multi_query import MultiQueryRetriever\n",
    "retriever = MultiQueryRetriever.from_llm(retriever=db.as_retriever(), llm=llm)"
   ]
  },
  {
   "cell_type": "code",
   "execution_count": 11,
   "id": "ba7d9e85",
   "metadata": {},
   "outputs": [
    {
     "name": "stdout",
     "output_type": "stream",
     "text": [
      "\u001b[32;1m\u001b[1;3m[chain/start]\u001b[0m \u001b[1m[retriever:MultiQueryRetriever > chain:RunnableSequence] Entering Chain run with input:\n",
      "\u001b[0m{\n",
      "  \"question\": \"여행 계획 세우기\"\n",
      "}\n",
      "\u001b[32;1m\u001b[1;3m[chain/start]\u001b[0m \u001b[1m[retriever:MultiQueryRetriever > chain:RunnableSequence > prompt:PromptTemplate] Entering Prompt run with input:\n",
      "\u001b[0m{\n",
      "  \"question\": \"여행 계획 세우기\"\n",
      "}\n",
      "\u001b[36;1m\u001b[1;3m[chain/end]\u001b[0m \u001b[1m[retriever:MultiQueryRetriever > chain:RunnableSequence > prompt:PromptTemplate] [0ms] Exiting Prompt run with output:\n",
      "\u001b[0m[outputs]\n",
      "\u001b[32;1m\u001b[1;3m[llm/start]\u001b[0m \u001b[1m[retriever:MultiQueryRetriever > chain:RunnableSequence > llm:ChatOpenAI] Entering LLM run with input:\n",
      "\u001b[0m{\n",
      "  \"prompts\": [\n",
      "    \"Human: You are an AI language model assistant. Your task is \\n    to generate 3 different versions of the given user \\n    question to retrieve relevant documents from a vector  database. \\n    By generating multiple perspectives on the user question, \\n    your goal is to help the user overcome some of the limitations \\n    of distance-based similarity search. Provide these alternative \\n    questions separated by newlines. Original question: 여행 계획 세우기\"\n",
      "  ]\n",
      "}\n",
      "\u001b[36;1m\u001b[1;3m[llm/end]\u001b[0m \u001b[1m[retriever:MultiQueryRetriever > chain:RunnableSequence > llm:ChatOpenAI] [2.02s] Exiting LLM run with output:\n",
      "\u001b[0m{\n",
      "  \"generations\": [\n",
      "    [\n",
      "      {\n",
      "        \"text\": \"여행 일정을 어떻게 짜야 할까요?  \\n\\n여행 준비를 위한 좋은 팁이나 가이드가 있을까요?  \\n\\n최고의 여행지를 선택하고 계획하는 방법은 무엇인가요?  \",\n",
      "        \"generation_info\": {\n",
      "          \"finish_reason\": \"stop\",\n",
      "          \"logprobs\": null\n",
      "        },\n",
      "        \"type\": \"ChatGeneration\",\n",
      "        \"message\": {\n",
      "          \"lc\": 1,\n",
      "          \"type\": \"constructor\",\n",
      "          \"id\": [\n",
      "            \"langchain\",\n",
      "            \"schema\",\n",
      "            \"messages\",\n",
      "            \"AIMessage\"\n",
      "          ],\n",
      "          \"kwargs\": {\n",
      "            \"content\": \"여행 일정을 어떻게 짜야 할까요?  \\n\\n여행 준비를 위한 좋은 팁이나 가이드가 있을까요?  \\n\\n최고의 여행지를 선택하고 계획하는 방법은 무엇인가요?  \",\n",
      "            \"additional_kwargs\": {\n",
      "              \"refusal\": null\n",
      "            },\n",
      "            \"response_metadata\": {\n",
      "              \"token_usage\": {\n",
      "                \"completion_tokens\": 44,\n",
      "                \"prompt_tokens\": 95,\n",
      "                \"total_tokens\": 139,\n",
      "                \"completion_tokens_details\": {\n",
      "                  \"accepted_prediction_tokens\": 0,\n",
      "                  \"audio_tokens\": 0,\n",
      "                  \"reasoning_tokens\": 0,\n",
      "                  \"rejected_prediction_tokens\": 0\n",
      "                },\n",
      "                \"prompt_tokens_details\": {\n",
      "                  \"audio_tokens\": 0,\n",
      "                  \"cached_tokens\": 0\n",
      "                }\n",
      "              },\n",
      "              \"model_name\": \"gpt-4o-mini-2024-07-18\",\n",
      "              \"system_fingerprint\": \"fp_34a54ae93c\",\n",
      "              \"finish_reason\": \"stop\",\n",
      "              \"logprobs\": null\n",
      "            },\n",
      "            \"type\": \"ai\",\n",
      "            \"id\": \"run--131e3faf-e78c-488e-8d6d-b4a874d0d8fc-0\",\n",
      "            \"usage_metadata\": {\n",
      "              \"input_tokens\": 95,\n",
      "              \"output_tokens\": 44,\n",
      "              \"total_tokens\": 139,\n",
      "              \"input_token_details\": {\n",
      "                \"audio\": 0,\n",
      "                \"cache_read\": 0\n",
      "              },\n",
      "              \"output_token_details\": {\n",
      "                \"audio\": 0,\n",
      "                \"reasoning\": 0\n",
      "              }\n",
      "            },\n",
      "            \"tool_calls\": [],\n",
      "            \"invalid_tool_calls\": []\n",
      "          }\n",
      "        }\n",
      "      }\n",
      "    ]\n",
      "  ],\n",
      "  \"llm_output\": {\n",
      "    \"token_usage\": {\n",
      "      \"completion_tokens\": 44,\n",
      "      \"prompt_tokens\": 95,\n",
      "      \"total_tokens\": 139,\n",
      "      \"completion_tokens_details\": {\n",
      "        \"accepted_prediction_tokens\": 0,\n",
      "        \"audio_tokens\": 0,\n",
      "        \"reasoning_tokens\": 0,\n",
      "        \"rejected_prediction_tokens\": 0\n",
      "      },\n",
      "      \"prompt_tokens_details\": {\n",
      "        \"audio_tokens\": 0,\n",
      "        \"cached_tokens\": 0\n",
      "      }\n",
      "    },\n",
      "    \"model_name\": \"gpt-4o-mini-2024-07-18\",\n",
      "    \"system_fingerprint\": \"fp_34a54ae93c\"\n",
      "  },\n",
      "  \"run\": null,\n",
      "  \"type\": \"LLMResult\"\n",
      "}\n",
      "\u001b[32;1m\u001b[1;3m[chain/start]\u001b[0m \u001b[1m[retriever:MultiQueryRetriever > chain:RunnableSequence > parser:LineListOutputParser] Entering Parser run with input:\n",
      "\u001b[0m[inputs]\n",
      "\u001b[36;1m\u001b[1;3m[chain/end]\u001b[0m \u001b[1m[retriever:MultiQueryRetriever > chain:RunnableSequence > parser:LineListOutputParser] [0ms] Exiting Parser run with output:\n",
      "\u001b[0m{\n",
      "  \"output\": [\n",
      "    \"여행 일정을 어떻게 짜야 할까요?  \",\n",
      "    \"여행 준비를 위한 좋은 팁이나 가이드가 있을까요?  \",\n",
      "    \"최고의 여행지를 선택하고 계획하는 방법은 무엇인가요?\"\n",
      "  ]\n",
      "}\n",
      "\u001b[36;1m\u001b[1;3m[chain/end]\u001b[0m \u001b[1m[retriever:MultiQueryRetriever > chain:RunnableSequence] [2.02s] Exiting Chain run with output:\n",
      "\u001b[0m{\n",
      "  \"output\": [\n",
      "    \"여행 일정을 어떻게 짜야 할까요?  \",\n",
      "    \"여행 준비를 위한 좋은 팁이나 가이드가 있을까요?  \",\n",
      "    \"최고의 여행지를 선택하고 계획하는 방법은 무엇인가요?\"\n",
      "  ]\n",
      "}\n"
     ]
    },
    {
     "data": {
      "text/plain": [
       "[Document(id='39f1fe7e-71ea-4118-a107-0cc2038c0c5e', metadata={'source': './docs/travel.txt'}, page_content='여행 일정 짜는 방법. 관광 명소를 효과적으로 방문하기 위한 스케줄링 팁.'),\n",
       " Document(id='2dfebecb-797d-4ccf-8b58-14f9b97f7a93', metadata={'source': './docs/travel.txt'}, page_content='효율적인 여행 계획 세우기. 예산을 절약하면서도 만족스러운 여행을 하는 방법.'),\n",
       " Document(id='cbec3d53-29df-4428-93fe-76641ee24c75', metadata={'source': './docs/travel.txt'}, page_content='여행 경로를 설계하는 법. 최적의 동선을 계획하여 피로도를 줄이는 방법을 소개합니다.'),\n",
       " Document(id='bbea7e7e-58f8-47f8-a269-d8054e83a512', metadata={'source': './docs/travel.txt'}, page_content='여행을 준비하는 방법은 무엇인가? 필요한 짐을 꾸리는 팁과 함께 여행의 기본 요소를 알아보자.'),\n",
       " Document(id='6b42150b-a27d-4ec0-afa9-3a6664ddbeb1', metadata={'source': './docs/travel.txt'}, page_content='여행 중 음식 고르는 법. 지역 특산물을 즐기면서도 위생을 고려하는 요령.')]"
      ]
     },
     "execution_count": 11,
     "metadata": {},
     "output_type": "execute_result"
    }
   ],
   "source": [
    "retriever.invoke(\"여행 계획 세우기\")"
   ]
  },
  {
   "cell_type": "code",
   "execution_count": 10,
   "id": "9cedf1dd",
   "metadata": {},
   "outputs": [],
   "source": [
    "import langchain\n",
    "langchain.debug = True"
   ]
  }
 ],
 "metadata": {
  "kernelspec": {
   "display_name": "Python 3",
   "language": "python",
   "name": "python3"
  },
  "language_info": {
   "codemirror_mode": {
    "name": "ipython",
    "version": 3
   },
   "file_extension": ".py",
   "mimetype": "text/x-python",
   "name": "python",
   "nbconvert_exporter": "python",
   "pygments_lexer": "ipython3",
   "version": "3.11.9"
  }
 },
 "nbformat": 4,
 "nbformat_minor": 5
}
