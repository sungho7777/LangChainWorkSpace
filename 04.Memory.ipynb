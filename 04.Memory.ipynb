{
 "cells": [
  {
   "cell_type": "code",
   "execution_count": 1,
   "id": "576c94a4",
   "metadata": {},
   "outputs": [
    {
     "data": {
      "text/plain": [
       "True"
      ]
     },
     "execution_count": 1,
     "metadata": {},
     "output_type": "execute_result"
    }
   ],
   "source": [
    "from dotenv import load_dotenv\n",
    "load_dotenv()"
   ]
  },
  {
   "cell_type": "code",
   "execution_count": 2,
   "id": "76fbde12",
   "metadata": {},
   "outputs": [],
   "source": [
    "from langchain_openai import ChatOpenAI\n",
    "from langchain_core.output_parsers import StrOutputParser\n",
    "\n",
    "llm = ChatOpenAI(model=\"gpt-4o-mini\")\n",
    "parser = StrOutputParser()\n",
    "\n",
    "chain = llm | parser"
   ]
  },
  {
   "cell_type": "code",
   "execution_count": 3,
   "id": "62ed8359",
   "metadata": {},
   "outputs": [
    {
     "data": {
      "text/plain": [
       "'좋아요! 수영은 몸에도 좋고 스트레스 해소에도 도움이 되죠. 어떤 스타일의 수영을 좋아하시나요? 준비물은 다 챙기셨나요?'"
      ]
     },
     "execution_count": 3,
     "metadata": {},
     "output_type": "execute_result"
    }
   ],
   "source": [
    "from langchain_core.messages import HumanMessage, AIMessage\n",
    "chain.invoke(\n",
    "    [\n",
    "        HumanMessage(content=\"내일은 수영을 가야지!\")\n",
    "    ]\n",
    ")\n"
   ]
  },
  {
   "cell_type": "code",
   "execution_count": 4,
   "id": "7733476b",
   "metadata": {},
   "outputs": [
    {
     "data": {
      "text/plain": [
       "'내일의 계획을 정확히 알 수는 없지만, 대화한 내용을 기준으로 어떤 약속이나 계획이 있었던 것 같은데요. 혹시 어떤 일이나 장소에 대해 이야기했는지 더 알려주시면 함께 기억해보는 데 도움이 될 수 있어요!'"
      ]
     },
     "execution_count": 4,
     "metadata": {},
     "output_type": "execute_result"
    }
   ],
   "source": [
    "chain.invoke(\n",
    "    [\n",
    "        HumanMessage(content=\"내일 뭐하러 간다고 했었지??\")\n",
    "    ]\n",
    ")"
   ]
  },
  {
   "cell_type": "code",
   "execution_count": 5,
   "id": "0fc5d085",
   "metadata": {},
   "outputs": [
    {
     "data": {
      "text/plain": [
       "'내일 수영을 가기로 했었어요! 수영장에서 즐겁게 시간을 보내세요! 다른 계획이나 준비할 것이 필요하다면 물어보세요.'"
      ]
     },
     "execution_count": 5,
     "metadata": {},
     "output_type": "execute_result"
    }
   ],
   "source": [
    "chain.invoke(\n",
    "    [\n",
    "        HumanMessage(content=\"내일은 수영을 가야지!\"),\n",
    "        AIMessage(content=\"좋아요! 수영은 몸에도 좋고 스트레스 해소에도 도움이 되죠. 어떤 스타일의 수영을 좋아하시나요? 준비물은 다 챙기셨나요?\"),\n",
    "        HumanMessage(content=\"내일 뭐하러 간다고 했었지??\")\n",
    "\n",
    "    ]\n",
    ")"
   ]
  }
 ],
 "metadata": {
  "kernelspec": {
   "display_name": "Python 3",
   "language": "python",
   "name": "python3"
  },
  "language_info": {
   "codemirror_mode": {
    "name": "ipython",
    "version": 3
   },
   "file_extension": ".py",
   "mimetype": "text/x-python",
   "name": "python",
   "nbconvert_exporter": "python",
   "pygments_lexer": "ipython3",
   "version": "3.13.5"
  }
 },
 "nbformat": 4,
 "nbformat_minor": 5
}
