{
 "cells": [
  {
   "cell_type": "code",
   "execution_count": 1,
   "id": "067bc976",
   "metadata": {},
   "outputs": [
    {
     "data": {
      "text/plain": [
       "True"
      ]
     },
     "execution_count": 1,
     "metadata": {},
     "output_type": "execute_result"
    }
   ],
   "source": [
    "from dotenv import load_dotenv\n",
    "load_dotenv()"
   ]
  },
  {
   "cell_type": "code",
   "execution_count": 2,
   "id": "0459b8c8",
   "metadata": {},
   "outputs": [
    {
     "data": {
      "text/plain": [
       "AIMessage(content='병원은 의료 서비스와 치료를 제공하는 시설입니다. 환자가 질병이나 부상을 치료받기 위해 방문하며, 의사, 간호사 등 의료 전문 인력이 근무합니다. 병원에서는 진료, 수술, 입원, 응급처치 등의 다양한 의료 서비스를 제공합니다. 일반적으로 1차 병원, 2차 병원, 3차 병원으로 나뉘어 있으며, 각 병원은 제공하는 전문성과 규모에 따라 차이가 있습니다. 병원은 건강을 유지하고 회복하는 데 중요한 역할을 합니다.', additional_kwargs={'refusal': None}, response_metadata={'token_usage': {'completion_tokens': 122, 'prompt_tokens': 24, 'total_tokens': 146, 'completion_tokens_details': {'accepted_prediction_tokens': 0, 'audio_tokens': 0, 'reasoning_tokens': 0, 'rejected_prediction_tokens': 0}, 'prompt_tokens_details': {'audio_tokens': 0, 'cached_tokens': 0}}, 'model_name': 'gpt-4o-mini-2024-07-18', 'system_fingerprint': 'fp_34a54ae93c', 'finish_reason': 'stop', 'logprobs': None}, id='run--16e82802-75b1-4489-b584-d9b8b39e4177-0', usage_metadata={'input_tokens': 24, 'output_tokens': 122, 'total_tokens': 146, 'input_token_details': {'audio': 0, 'cache_read': 0}, 'output_token_details': {'audio': 0, 'reasoning': 0}})"
      ]
     },
     "execution_count": 2,
     "metadata": {},
     "output_type": "execute_result"
    }
   ],
   "source": [
    "from langchain_openai import ChatOpenAI\n",
    "from langchain_core.prompts import PromptTemplate\n",
    "\n",
    "llm = ChatOpenAI(model=\"gpt-4o-mini\")\n",
    "prompt_template = PromptTemplate.from_template(\n",
    "    \"입력한 단어에 대해 간단히 설명 하세요. : {word}\"\n",
    ")\n",
    "\n",
    "chain = prompt_template | llm\n",
    "chain.invoke(\n",
    "    {\n",
    "        \"word\" : \"병원\"\n",
    "    }\n",
    ")\n"
   ]
  },
  {
   "cell_type": "code",
   "execution_count": 3,
   "id": "7f67f80b",
   "metadata": {},
   "outputs": [
    {
     "data": {
      "text/plain": [
       "'약국은 의약품, 건강 보조 식품, 개인 위생 용품 등을 판매하는 상점을 말합니다. 주로 의사로부터 처방 받은 약을 조제하거나, 비처방 약품을 판매하는 역할을 합니다. 또한, 약사와 같은 전문 인력이 상주하여 고객에게 약물에 대한 상담이나 건강 정보를 제공하기도 합니다. 일반적으로 약국은 의료 서비스와 밀접하게 연관되어 있어 지역 사회의 건강을 지원하는 중요한 역할을 합니다.'"
      ]
     },
     "execution_count": 3,
     "metadata": {},
     "output_type": "execute_result"
    }
   ],
   "source": [
    "from langchain_core.output_parsers import StrOutputParser\n",
    "parser = StrOutputParser()\n",
    "\n",
    "chain = prompt_template | llm | parser\n",
    "chain.invoke(\n",
    "    {\n",
    "        \"word\" : \"약국\"\n",
    "    }\n",
    ")\n"
   ]
  },
  {
   "cell_type": "code",
   "execution_count": 4,
   "id": "ddfeaa8d",
   "metadata": {},
   "outputs": [
    {
     "data": {
      "text/plain": [
       "'Return a JSON object.'"
      ]
     },
     "execution_count": 4,
     "metadata": {},
     "output_type": "execute_result"
    }
   ],
   "source": [
    "from langchain_core.output_parsers import JsonOutputParser\n",
    "parser = JsonOutputParser()\n",
    "parser.get_format_instructions()\n"
   ]
  },
  {
   "cell_type": "code",
   "execution_count": 5,
   "id": "627e76d1",
   "metadata": {},
   "outputs": [
    {
     "data": {
      "text/plain": [
       "{'related_words': ['주식',\n",
       "  '채권',\n",
       "  '투자',\n",
       "  '금융',\n",
       "  '시장',\n",
       "  '거래',\n",
       "  '기업',\n",
       "  '분석',\n",
       "  '포트폴리오',\n",
       "  '상장']}"
      ]
     },
     "execution_count": 5,
     "metadata": {},
     "output_type": "execute_result"
    }
   ],
   "source": [
    "prompt_template = PromptTemplate(\n",
    "    template = \"\"\"\n",
    "    입력한 단어와 관련 있는 단어를 알려줘.\n",
    "    - 제약사항 : {format_instructions}\n",
    "    - 입력단어 : {word}\n",
    "    \"\"\",\n",
    "    input_variables = [\"word\"],\n",
    "    partial_variables = {\"format_instructions\" : parser.get_format_instructions()}\n",
    ")\n",
    "\n",
    "chain = prompt_template | llm | parser\n",
    "chain.invoke({\"word\" : \"증권\"})\n"
   ]
  },
  {
   "cell_type": "code",
   "execution_count": 6,
   "id": "c0f320c7",
   "metadata": {},
   "outputs": [
    {
     "data": {
      "text/plain": [
       "'Your response should be a list of comma separated values, eg: `foo, bar, baz` or `foo,bar,baz`'"
      ]
     },
     "execution_count": 6,
     "metadata": {},
     "output_type": "execute_result"
    }
   ],
   "source": [
    "from langchain_core.output_parsers import CommaSeparatedListOutputParser\n",
    "parser = CommaSeparatedListOutputParser()\n",
    "parser.get_format_instructions()\n"
   ]
  },
  {
   "cell_type": "code",
   "execution_count": 7,
   "id": "bbcc1983",
   "metadata": {},
   "outputs": [
    {
     "data": {
      "text/plain": [
       "['동물', '전시', '서식지', '관람', '생물', '유인원', '사자', '기린', '교육', '연구']"
      ]
     },
     "execution_count": 7,
     "metadata": {},
     "output_type": "execute_result"
    }
   ],
   "source": [
    "prompt_template = PromptTemplate(\n",
    "    template = \"\"\"\n",
    "    입력한 단어와 관련 있는 단어를 알려줘.\n",
    "    - 제약사항 : {format_instructions}\n",
    "    - 입력단어 : {word}\n",
    "    \"\"\",\n",
    "    input_variables = [\"word\"],\n",
    "    partial_variables = {\"format_instructions\" : parser.get_format_instructions()}\n",
    ")\n",
    "\n",
    "chain = prompt_template | llm | parser\n",
    "chain.invoke({\"word\" : \"동물원\"})\n"
   ]
  }
 ],
 "metadata": {
  "kernelspec": {
   "display_name": "Python 3",
   "language": "python",
   "name": "python3"
  },
  "language_info": {
   "codemirror_mode": {
    "name": "ipython",
    "version": 3
   },
   "file_extension": ".py",
   "mimetype": "text/x-python",
   "name": "python",
   "nbconvert_exporter": "python",
   "pygments_lexer": "ipython3",
   "version": "3.13.5"
  }
 },
 "nbformat": 4,
 "nbformat_minor": 5
}
