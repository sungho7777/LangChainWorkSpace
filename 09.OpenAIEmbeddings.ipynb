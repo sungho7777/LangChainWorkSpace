{
 "cells": [
  {
   "cell_type": "code",
   "execution_count": 1,
   "id": "1d929e97",
   "metadata": {},
   "outputs": [
    {
     "data": {
      "text/plain": [
       "True"
      ]
     },
     "execution_count": 1,
     "metadata": {},
     "output_type": "execute_result"
    }
   ],
   "source": [
    "from dotenv import load_dotenv\n",
    "load_dotenv()"
   ]
  },
  {
   "cell_type": "code",
   "execution_count": 2,
   "id": "6573f961",
   "metadata": {},
   "outputs": [],
   "source": [
    "from langchain_openai import OpenAIEmbeddings\n",
    "openai_embeddings = OpenAIEmbeddings(model=\"text-embedding-3-small\")\n",
    "\n",
    "news = [\n",
    "    \"정치 : 최근 대선 후보 토론에서 양당의 입장이 강하게 충돌했습니다. 후보들은 세금 정책과 사회 복지 확대 여부를 두고 팽팽한 신경전을 벌였습니다. 전문가들은 이번 선거가 향후 10년간 정치 지형을 크게 변화시킬 것이라고 전망합니다.\",\n",
    "    \"경제 : 세계적인 인플레이션 압박으로 각국 중앙은행들이 금리 인상에 나섰습니다. 특히 미국 연방준비제도는 예상보다 더 강력한 금리 인상을 단행하며 시장에 충격을 주었습니다. 이로 인해 주식과 채권 시장에서 대규모 매도세가 발생했습니다.\",\n",
    "    \"과학 : 새로운 암 치료법이 임상시험에서 획기적인 성과를 거두었습니다. 연구팀은 유전자 편집 기술을 이용해 특정 암세포만을 표적으로 삼는 방법을 개발했습니다. 이 치료법이 상용화된다면 기존 치료법보다 부작용이 크게 줄어들 것으로 기대됩니다.\",\n",
    "    \"기술 : 인공지능(AI) 기반 번역 서비스가 급속도로 발전하면서 글로벌 소통의 장벽이 낮아지고 있습니다. 최근 출시된 AI 번역기는 실시간으로 음성을 번역해주는 기능을 제공하며, 다양한 언어를 지원합니다. 이에 따라 다국적 비즈니스와 국제 회의의 효율성이 크게 향상될 것으로 보입니다.\",\n",
    "    \"환경 : 지구 온난화로 인한 극단적인 기후 변화가 전 세계적으로 심각한 피해를 초래하고 있습니다. 북극 해빙이 급격히 녹고 있으며, 이로 인해 해수면 상승이 가속화되고 있습니다. 환경 단체들은 즉각적인 탄소 배출 감축이 필요하다고 경고하고 있습니다.\",\n",
    "    \"사회 : 최근 젊은 층 사이에서 미니멀리즘 라이프스타일이 인기를 끌고 있습니다. 불필요한 물건을 줄이고 필수품만을 소유하는 이 방식은 스트레스 감소와 심리적 안정에 도움을 준다고 알려져 있습니다. 이에 따라 관련 제품과 서비스 시장도 확대되고 있습니다.\",\n",
    "    \"국제 : 아시아-태평양 지역에서의 경제 협력이 강화되고 있습니다. 주요 국가들은 무역 장벽을 낮추고 공동 개발 프로젝트를 추진하며 상호 이익을 추구하고 있습니다. 그러나 중국과 미국 간의 갈등이 여전히 지역 안정에 큰 변수로 작용하고 있습니다.\",\n",
    "    \"보건 : 최근 신종 바이러스의 확산이 일부 국가에서 급격히 증가하고 있습니다. 이에 따라 각국 정부는 예방접종 캠페인과 함께 강력한 방역 조치를 시행하고 있습니다. 보건 전문가들은 지속적인 모니터링과 빠른 대응이 필요하다고 강조하고 있습니다.\",\n",
    "    \"문화 : 전통 예술과 현대 기술이 결합된 새로운 형태의 공연 예술이 인기를 끌고 있습니다. 디지털 기술을 활용한 무대 연출과 실시간 인터랙티브 요소가 관객의 몰입감을 높이고 있습니다. 이 같은 시도가 예술계에 신선한 변화를 가져오고 있습니다.\",\n",
    "    \"우주 : NASA가 새롭게 발사한 우주 망원경이 태양계 외곽의 신비로운 행성을 발견했습니다. 과학자들은 이 행성의 대기에서 생명체의 존재를 암시하는 화합물을 발견했다고 발표했습니다. 이 발견은 우주 탐사에 새로운 이정표가 될 것으로 기대됩니다.\"\n",
    "]\n",
    "\n",
    "embeddings = openai_embeddings.embed_documents(news)"
   ]
  },
  {
   "cell_type": "code",
   "execution_count": 3,
   "id": "6047bc1b",
   "metadata": {},
   "outputs": [
    {
     "data": {
      "text/plain": [
       "1536"
      ]
     },
     "execution_count": 3,
     "metadata": {},
     "output_type": "execute_result"
    }
   ],
   "source": [
    "len(embeddings[0])"
   ]
  },
  {
   "cell_type": "code",
   "execution_count": 4,
   "id": "7269f472",
   "metadata": {},
   "outputs": [
    {
     "data": {
      "text/plain": [
       "[0.02243948169052601,\n",
       " 0.03620721772313118,\n",
       " 0.0017182904994115233,\n",
       " 0.03721356764435768,\n",
       " -0.005893575958907604,\n",
       " 0.047662489116191864,\n",
       " 0.0008189982618205249,\n",
       " 0.042223911732435226,\n",
       " 0.031068405136466026,\n",
       " 0.020030664280056953]"
      ]
     },
     "execution_count": 4,
     "metadata": {},
     "output_type": "execute_result"
    }
   ],
   "source": [
    "embeddings[0][:10]"
   ]
  },
  {
   "cell_type": "code",
   "execution_count": 5,
   "id": "8dc37720",
   "metadata": {},
   "outputs": [
    {
     "data": {
      "text/plain": [
       "[0.021446593105793,\n",
       " 0.005830513313412666,\n",
       " -0.010704158805310726,\n",
       " 0.0014488570159301162,\n",
       " -0.03983120992779732,\n",
       " 0.028323281556367874,\n",
       " -0.020196285098791122,\n",
       " 0.04072428494691849,\n",
       " 0.028272248804569244,\n",
       " -0.03462585061788559]"
      ]
     },
     "execution_count": 5,
     "metadata": {},
     "output_type": "execute_result"
    }
   ],
   "source": [
    "embedded_query = openai_embeddings.embed_query(\"대선 후보 토론\")\n",
    "embedded_query[:10]"
   ]
  },
  {
   "cell_type": "code",
   "execution_count": 6,
   "id": "37a7bdd7",
   "metadata": {},
   "outputs": [
    {
     "data": {
      "text/plain": [
       "[0.01869271509349346,\n",
       " 0.029893750324845314,\n",
       " -0.009109201841056347,\n",
       " 0.01943458616733551,\n",
       " 0.007181553635746241,\n",
       " -0.010811856016516685,\n",
       " -0.005627881269901991,\n",
       " 0.0171603262424469,\n",
       " 0.010361868888139725,\n",
       " -0.032496377825737]"
      ]
     },
     "execution_count": 6,
     "metadata": {},
     "output_type": "execute_result"
    }
   ],
   "source": [
    "embedded_query = openai_embeddings.embed_query(\"태양계 밖의 새로운 행성\")\n",
    "embedded_query[:10]"
   ]
  },
  {
   "cell_type": "code",
   "execution_count": 8,
   "id": "e04ed086",
   "metadata": {},
   "outputs": [],
   "source": [
    "from numpy import dot\n",
    "from numpy.linalg import norm\n",
    "\n",
    "# 코사인 유사도 계산\n",
    "def cosine_similarity(A, B):\n",
    "    return dot(A, B) / (norm(A) * norm(B))\n"
   ]
  },
  {
   "cell_type": "code",
   "execution_count": 11,
   "id": "6a483098",
   "metadata": {},
   "outputs": [
    {
     "name": "stdout",
     "output_type": "stream",
     "text": [
      "0.15907822589339402\n",
      "0.0828920535953493\n",
      "0.2598627252958398\n",
      "0.7055460044685704\n",
      "0.11421057377605663\n",
      "0.16032269259907908\n",
      "0.13910293028013357\n",
      "0.19447392384698167\n",
      "0.33225725685100765\n",
      "0.19155093682070518\n"
     ]
    }
   ],
   "source": [
    "embedded_query = openai_embeddings.embed_query(\"최근 출시된 AI 번역기는 실시간으로 음성\")\n",
    "for embedding in embeddings:\n",
    "    print(cosine_similarity(embedding, embedded_query))"
   ]
  }
 ],
 "metadata": {
  "kernelspec": {
   "display_name": "Python 3",
   "language": "python",
   "name": "python3"
  },
  "language_info": {
   "codemirror_mode": {
    "name": "ipython",
    "version": 3
   },
   "file_extension": ".py",
   "mimetype": "text/x-python",
   "name": "python",
   "nbconvert_exporter": "python",
   "pygments_lexer": "ipython3",
   "version": "3.13.5"
  }
 },
 "nbformat": 4,
 "nbformat_minor": 5
}
